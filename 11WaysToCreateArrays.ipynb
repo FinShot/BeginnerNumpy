{
 "cells": [
  {
   "cell_type": "code",
   "execution_count": 1,
   "id": "a6ec17dc-11c3-4a4a-89bf-280443205102",
   "metadata": {},
   "outputs": [],
   "source": [
    "import numpy as np"
   ]
  },
  {
   "cell_type": "markdown",
   "id": "b3be92c5-560c-4720-9237-944d3d5745c7",
   "metadata": {},
   "source": [
    "**Creating an array with start, stop, step**"
   ]
  },
  {
   "cell_type": "code",
   "execution_count": 4,
   "id": "2ed1f3e3-2d7f-4de5-8bb4-c93e94adef95",
   "metadata": {},
   "outputs": [
    {
     "data": {
      "text/plain": [
       "array([0, 2, 4, 6, 8])"
      ]
     },
     "execution_count": 4,
     "metadata": {},
     "output_type": "execute_result"
    }
   ],
   "source": [
    "a = np.arange(0,10,2)\n",
    "a\n",
    "#use reshape to turn into 2D, 3D, etc... "
   ]
  },
  {
   "cell_type": "markdown",
   "id": "0baf345e-b6a1-40b1-9a42-78437c4b592d",
   "metadata": {},
   "source": [
    "**Creating a 1D array of 1s**"
   ]
  },
  {
   "cell_type": "code",
   "execution_count": 6,
   "id": "5c84fd88-06c9-4a92-8f79-5b9787ac0d4b",
   "metadata": {},
   "outputs": [
    {
     "data": {
      "text/plain": [
       "array([1., 1., 1., 1., 1.])"
      ]
     },
     "execution_count": 6,
     "metadata": {},
     "output_type": "execute_result"
    }
   ],
   "source": [
    "b = np.ones(5)\n",
    "b"
   ]
  },
  {
   "cell_type": "markdown",
   "id": "8977ef3c-c0a9-4433-a328-bcdf6451b743",
   "metadata": {},
   "source": [
    "**Creating a 2D array of 1s**"
   ]
  },
  {
   "cell_type": "code",
   "execution_count": 27,
   "id": "ec97fcd5-7509-479a-b590-c4c865adec06",
   "metadata": {},
   "outputs": [
    {
     "data": {
      "text/plain": [
       "array([[1., 1., 1.],\n",
       "       [1., 1., 1.],\n",
       "       [1., 1., 1.]])"
      ]
     },
     "execution_count": 27,
     "metadata": {},
     "output_type": "execute_result"
    }
   ],
   "source": [
    "bb = np.ones((3,3))\n",
    "bb"
   ]
  },
  {
   "cell_type": "markdown",
   "id": "ef2bf5aa-0580-45d0-855a-d2572e936046",
   "metadata": {},
   "source": [
    "**Creating a 1D array of zeros**"
   ]
  },
  {
   "cell_type": "code",
   "execution_count": 7,
   "id": "b8557b5b-af7e-43bb-a222-116ad5e08715",
   "metadata": {},
   "outputs": [
    {
     "data": {
      "text/plain": [
       "array([0., 0., 0., 0., 0., 0.])"
      ]
     },
     "execution_count": 7,
     "metadata": {},
     "output_type": "execute_result"
    }
   ],
   "source": [
    "c = np.zeros(6)\n",
    "c "
   ]
  },
  {
   "cell_type": "markdown",
   "id": "7f36ce9b-6a0b-48f1-8af0-8cf98ac185f6",
   "metadata": {},
   "source": [
    "**Creating a 2D array of zeros**"
   ]
  },
  {
   "cell_type": "code",
   "execution_count": 26,
   "id": "bc5583c9-e5e6-427c-a0f0-7bde99d4c6d3",
   "metadata": {},
   "outputs": [
    {
     "data": {
      "text/plain": [
       "array([[0., 0., 0.],\n",
       "       [0., 0., 0.],\n",
       "       [0., 0., 0.]])"
      ]
     },
     "execution_count": 26,
     "metadata": {},
     "output_type": "execute_result"
    }
   ],
   "source": [
    "cc = np.zeros((3,3))\n",
    "cc"
   ]
  },
  {
   "cell_type": "markdown",
   "id": "f4426026-c441-470e-84a5-4acf0411c3c3",
   "metadata": {},
   "source": [
    "**Arrays using linspace** "
   ]
  },
  {
   "cell_type": "code",
   "execution_count": 8,
   "id": "a7b4a55d-39b7-414b-8ea2-0dea76bb6a32",
   "metadata": {},
   "outputs": [
    {
     "data": {
      "text/plain": [
       "array([ 5. ,  7.5, 10. ])"
      ]
     },
     "execution_count": 8,
     "metadata": {},
     "output_type": "execute_result"
    }
   ],
   "source": [
    "d = np.linspace(5,10,3)\n",
    "d\n",
    "# use linspace to create arrays where the elements are equally spaced apart. "
   ]
  },
  {
   "cell_type": "markdown",
   "id": "f6ff0d84-e759-47a9-bac1-5dbb523e61fc",
   "metadata": {},
   "source": [
    "**Generate an array of random values**"
   ]
  },
  {
   "cell_type": "code",
   "execution_count": 29,
   "id": "61f99183-a3d8-4659-a0e5-09c9ee814cc5",
   "metadata": {},
   "outputs": [
    {
     "data": {
      "text/plain": [
       "array([7, 2, 9, 3])"
      ]
     },
     "execution_count": 29,
     "metadata": {},
     "output_type": "execute_result"
    }
   ],
   "source": [
    "e = np.random.randint(2,10,4)\n",
    "e\n",
    "# array random values"
   ]
  },
  {
   "cell_type": "markdown",
   "id": "cb64ed7b-5068-4ab0-86de-5d551fafbef3",
   "metadata": {},
   "source": [
    "**Generate a 2D array of randome values**"
   ]
  },
  {
   "cell_type": "code",
   "execution_count": 32,
   "id": "27f991e6-e0a0-4968-bb01-6a99833dbf3b",
   "metadata": {},
   "outputs": [
    {
     "data": {
      "text/plain": [
       "array([[40, 16],\n",
       "       [31, 20]])"
      ]
     },
     "execution_count": 32,
     "metadata": {},
     "output_type": "execute_result"
    }
   ],
   "source": [
    "ee = np.random.randint(2, 50, (2, 2))\n",
    "ee"
   ]
  },
  {
   "cell_type": "markdown",
   "id": "bb8d76ad-0fa3-4b45-9421-dac7b6fa2250",
   "metadata": {},
   "source": [
    "**Create an array with uniform distribution, (all numbers are equally likely to appear)**"
   ]
  },
  {
   "cell_type": "code",
   "execution_count": 34,
   "id": "d3e988d6-e1e1-45aa-a31f-624a844c8af4",
   "metadata": {},
   "outputs": [
    {
     "data": {
      "text/plain": [
       "array([0.77074801, 0.32450102, 0.69414997, 0.91706733, 0.89537615,\n",
       "       0.84238271, 0.10646471, 0.82728296, 0.21176632, 0.91530737])"
      ]
     },
     "execution_count": 34,
     "metadata": {},
     "output_type": "execute_result"
    }
   ],
   "source": [
    "f = np.random.rand(10)\n",
    "f\n",
    "# Anything between 0-1 has an equali likelihood of appearing. "
   ]
  },
  {
   "cell_type": "markdown",
   "id": "21547275-368e-4f54-b551-73a892b285bb",
   "metadata": {},
   "source": [
    "**Array of values with normal distribution, where numbers closer to the mean are likely to be chosen**"
   ]
  },
  {
   "cell_type": "code",
   "execution_count": 35,
   "id": "db649d42-a000-48c0-bb5b-9a4497d7db40",
   "metadata": {},
   "outputs": [
    {
     "data": {
      "text/plain": [
       "array([ 0.07201624, -2.28933482, -0.29532793,  0.92407164,  1.49446431,\n",
       "       -0.90348527,  1.01935281, -1.16446302,  0.37120535, -0.24134443])"
      ]
     },
     "execution_count": 35,
     "metadata": {},
     "output_type": "execute_result"
    }
   ],
   "source": [
    "g = np.random.randn(10)\n",
    "g\n",
    "# Numbers closer to the mean of 0, are more likely to appear"
   ]
  },
  {
   "cell_type": "markdown",
   "id": "d28c86b2-a87d-4d8a-869e-f4307e2500e9",
   "metadata": {},
   "source": [
    "**Identity matrix**"
   ]
  },
  {
   "cell_type": "code",
   "execution_count": 13,
   "id": "fbbd2a40-1749-4fd5-b62b-15aba4c3f452",
   "metadata": {},
   "outputs": [
    {
     "data": {
      "text/plain": [
       "array([[1., 0., 0.],\n",
       "       [0., 1., 0.],\n",
       "       [0., 0., 1.]])"
      ]
     },
     "execution_count": 13,
     "metadata": {},
     "output_type": "execute_result"
    }
   ],
   "source": [
    "h = np.eye(3)\n",
    "h\n",
    "# identity matrix. "
   ]
  }
 ],
 "metadata": {
  "kernelspec": {
   "display_name": "Python 3 (ipykernel)",
   "language": "python",
   "name": "python3"
  },
  "language_info": {
   "codemirror_mode": {
    "name": "ipython",
    "version": 3
   },
   "file_extension": ".py",
   "mimetype": "text/x-python",
   "name": "python",
   "nbconvert_exporter": "python",
   "pygments_lexer": "ipython3",
   "version": "3.11.7"
  }
 },
 "nbformat": 4,
 "nbformat_minor": 5
}
