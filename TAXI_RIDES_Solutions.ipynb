{
 "cells": [
  {
   "cell_type": "code",
   "execution_count": 1,
   "id": "676ed593-b3bc-4087-9830-9dad6085c75a",
   "metadata": {},
   "outputs": [],
   "source": [
    "import numpy as np"
   ]
  },
  {
   "cell_type": "code",
   "execution_count": 23,
   "id": "b97f71e3-da20-4dc7-99dc-3a2d6241a77b",
   "metadata": {},
   "outputs": [],
   "source": [
    "taxi = np.genfromtxt('nyc_taxis.csv', delimiter=\",\", skip_header = True)  #The delimiter is a comma since it's a CSV file.  "
   ]
  },
  {
   "cell_type": "markdown",
   "id": "6fca91c8-b1b8-4823-a42b-f40fd55b929a",
   "metadata": {},
   "source": [
    "**Mean Speed of all the cab rights**"
   ]
  },
  {
   "cell_type": "code",
   "execution_count": 8,
   "id": "299ae6a9-e1c9-45f4-b87f-bf6fd8f57bc8",
   "metadata": {},
   "outputs": [],
   "source": [
    "speed = taxi[:, 7] / (taxi[:, 8]/3600)   #No colum with speed. Time provided in seconds, hence the /3600. "
   ]
  },
  {
   "cell_type": "code",
   "execution_count": 9,
   "id": "6f07da0b-ecce-4e68-8644-b05839327638",
   "metadata": {},
   "outputs": [
    {
     "name": "stdout",
     "output_type": "stream",
     "text": [
      "32.24258580925573\n"
     ]
    }
   ],
   "source": [
    "mean_speed = speed.mean()\n",
    "print(mean_speed)"
   ]
  },
  {
   "cell_type": "markdown",
   "id": "33e012a2-3c70-47fc-ad91-ec803a939517",
   "metadata": {},
   "source": [
    "**Number of rides taken in the month of FEBRUARY**"
   ]
  },
  {
   "cell_type": "code",
   "execution_count": 15,
   "id": "bf200abb-aebd-4293-99c9-3f18b5f90687",
   "metadata": {},
   "outputs": [
    {
     "name": "stdout",
     "output_type": "stream",
     "text": [
      "13333\n"
     ]
    }
   ],
   "source": [
    "rides_feb = taxi[taxi[:, 1] == 2,1]    #Boolean algebra required. seperates second column.  2 = February\n",
    "print(rides_feb.shape[0])"
   ]
  },
  {
   "cell_type": "markdown",
   "id": "8e2ee01c-c98b-4fd0-afb1-1065bcea69fd",
   "metadata": {},
   "source": [
    "**Number of rides where the tips were greater than $50**"
   ]
  },
  {
   "cell_type": "code",
   "execution_count": 18,
   "id": "877ee401-f212-4c8f-a696-fd9869733d28",
   "metadata": {},
   "outputs": [
    {
     "name": "stdout",
     "output_type": "stream",
     "text": [
      "16\n"
     ]
    }
   ],
   "source": [
    "print(taxi[taxi[:,-3] > 50, -3].shape[0])"
   ]
  },
  {
   "cell_type": "markdown",
   "id": "adf7c1f1-64d8-45b2-863f-bfef714e7df0",
   "metadata": {},
   "source": [
    "**Number of rides where the dropoff has been JFK Airport**"
   ]
  },
  {
   "cell_type": "code",
   "execution_count": 26,
   "id": "a0b46903-5046-44c3-bec1-39c52bdb18cd",
   "metadata": {},
   "outputs": [
    {
     "data": {
      "text/plain": [
       "11832"
      ]
     },
     "execution_count": 26,
     "metadata": {},
     "output_type": "execute_result"
    }
   ],
   "source": [
    "taxi[taxi[:, 6] == 2, 6].shape[0]"
   ]
  },
  {
   "cell_type": "code",
   "execution_count": null,
   "id": "6abbd6f7-5d6a-4f74-94f4-94b455f962a6",
   "metadata": {},
   "outputs": [],
   "source": []
  },
  {
   "cell_type": "code",
   "execution_count": null,
   "id": "537b8e11-8b1e-43c0-b980-53edf84980b2",
   "metadata": {},
   "outputs": [],
   "source": []
  }
 ],
 "metadata": {
  "kernelspec": {
   "display_name": "Python 3 (ipykernel)",
   "language": "python",
   "name": "python3"
  },
  "language_info": {
   "codemirror_mode": {
    "name": "ipython",
    "version": 3
   },
   "file_extension": ".py",
   "mimetype": "text/x-python",
   "name": "python",
   "nbconvert_exporter": "python",
   "pygments_lexer": "ipython3",
   "version": "3.11.7"
  }
 },
 "nbformat": 4,
 "nbformat_minor": 5
}
